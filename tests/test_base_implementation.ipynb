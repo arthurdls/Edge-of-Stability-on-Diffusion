{
 "cells": [
  {
   "cell_type": "markdown",
   "id": "1a9d3943",
   "metadata": {},
   "source": [
    "# Minimal DDPM (CIFAR-10) with SGD"
   ]
  },
  {
   "cell_type": "code",
   "execution_count": null,
   "id": "7ee98c88",
   "metadata": {},
   "outputs": [],
   "source": [
    "# Imports\n",
    "from pathlib import Path\n",
    "import torch\n",
    "from torch.utils.data import DataLoader\n",
    "from torchvision import transforms, datasets, utils\n",
    "import matplotlib.pyplot as plt\n",
    "\n",
    "print('torch:', torch.__version__)\n",
    "device = torch.device('cuda' if torch.cuda.is_available() else 'cpu')\n",
    "print('device ->', device)"
   ]
  },
  {
   "cell_type": "code",
   "execution_count": null,
   "id": "16d69266",
   "metadata": {},
   "outputs": [],
   "source": [
    "# Import implementation\n",
    "from implementations.base_implementation import (\n",
    "    DiffusionSchedule, TinyUNet, sample_loop, train_ddim)"
   ]
  },
  {
   "cell_type": "code",
   "execution_count": null,
   "id": "23d41cbb",
   "metadata": {},
   "outputs": [],
   "source": [
    "# CIFAR-10 data loaders\n",
    "def get_dataloaders(batch_size=128, img_size=32, num_workers=4):\n",
    "    transform = transforms.Compose([\n",
    "        transforms.Resize(img_size),\n",
    "        transforms.ToTensor(),\n",
    "        transforms.Normalize((0.5,0.5,0.5), (0.5,0.5,0.5)),  # map to [-1,1]\n",
    "    ])\n",
    "    train_ds = datasets.CIFAR10(root='./data', train=True, download=True, transform=transform)\n",
    "    test_ds = datasets.CIFAR10(root='./data', train=False, download=True, transform=transform)\n",
    "    train_loader = DataLoader(train_ds, batch_size=batch_size, shuffle=True, num_workers=num_workers, pin_memory=True)\n",
    "    test_loader = DataLoader(test_ds, batch_size=batch_size, shuffle=False, num_workers=num_workers, pin_memory=True)\n",
    "    return train_loader, test_loader\n"
   ]
  },
  {
   "cell_type": "code",
   "execution_count": null,
   "id": "15772951",
   "metadata": {},
   "outputs": [],
   "source": [
    "# Helper to show saved sample grid\n",
    "from PIL import Image\n",
    "def show_image(path, figsize=(6,6)):\n",
    "    img = Image.open(path)\n",
    "    plt.figure(figsize=figsize)\n",
    "    plt.imshow(img)\n",
    "    plt.axis('off')\n",
    "    plt.show()\n"
   ]
  },
  {
   "cell_type": "code",
   "execution_count": null,
   "id": "16ff2274",
   "metadata": {},
   "outputs": [],
   "source": [
    "# Example: configure and (optionally) run training\n",
    "# WARNING: Training DDPM on CIFAR-10 is moderately heavy. Reduce epochs or timesteps for quick tests.\n",
    "timesteps = 200  # use 1000 for standard DDPM; reduce for fast experiments\n",
    "model = TinyUNet(in_ch=3, base_ch=64)\n",
    "schedule = DiffusionSchedule(timesteps=timesteps, device=device)\n",
    "train_loader, test_loader = get_dataloaders(batch_size=128, img_size=32, num_workers=2)\n",
    "\n",
    "# To run training, uncomment the following line. It will use SGD with momentum.\n",
    "# train_ddim(model, schedule, train_loader, device, epochs=10, lr=1e-2, save_dir='./runs_ddpm_sgd', ema_decay=0.995)\n",
    "\n",
    "print('Notebook set up. To begin training, call train_ddim(...) as shown above.')\n"
   ]
  },
  {
   "cell_type": "code",
   "execution_count": null,
   "id": "76fa8e90",
   "metadata": {},
   "outputs": [],
   "source": [
    "# Load a checkpoint and generate samples (example)\n",
    "ckpt_path = './runs_ddpm_sgd/checkpoint_epoch_10.pt'  # adjust to your path\n",
    "if Path(ckpt_path).exists():\n",
    "    ckpt = torch.load(ckpt_path, map_location=device)\n",
    "    model.load_state_dict(ckpt['model_state'])\n",
    "    model.to(device).eval()\n",
    "    samples = sample_loop(model, schedule, (16,3,32,32), device=device)\n",
    "    grid = (samples.clamp(-1,1) + 1) / 2.0\n",
    "    utils.save_image(grid, 'sample_from_ckpt.png', nrow=4)\n",
    "    show_image('sample_from_ckpt.png')\n",
    "else:\n",
    "    print('No checkpoint found at', ckpt_path)\n"
   ]
  },
  {
   "cell_type": "code",
   "execution_count": null,
   "id": "7311dd86",
   "metadata": {},
   "outputs": [],
   "source": [
    "# Short diagnostic: take a test batch, add noise at random t, and visualize noisy vs. denoised (single-step prediction)\n",
    "loader = test_loader\n",
    "x, _ = next(iter(loader))\n",
    "x = x[:8].to(device)\n",
    "t = torch.randint(0, schedule.timesteps, (x.shape[0],), device=device)\n",
    "noise = torch.randn_like(x)\n",
    "x_noisy = schedule.q_sample(x, t, noise=noise)\n",
    "with torch.no_grad():\n",
    "    pred_noise = model(x_noisy, t)\n",
    "    x0_pred = (x_noisy - schedule.sqrt_one_minus_alphas_cumprod[t].view(-1,1,1,1) * pred_noise) / schedule.sqrt_alphas_cumprod[t].view(-1,1,1,1)\n",
    "    x0_pred = x0_pred.clamp(-1,1)\n",
    "# show noisy and denoised pairs\n",
    "pairs = torch.cat([x_noisy[:8], x0_pred[:8]], dim=0)\n",
    "grid = (pairs + 1)/2.0\n",
    "utils.save_image(grid, 'diagnostic_pairs.png', nrow=8)\n",
    "show_image('diagnostic_pairs.png', figsize=(12,4))\n"
   ]
  }
 ],
 "metadata": {
  "kernelspec": {
   "display_name": "eos-diffusion",
   "language": "python",
   "name": "python3"
  },
  "language_info": {
   "name": "python",
   "version": "3.12.12"
  }
 },
 "nbformat": 4,
 "nbformat_minor": 5
}
